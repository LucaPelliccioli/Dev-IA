{
  "nbformat": 4,
  "nbformat_minor": 0,
  "metadata": {
    "colab": {
      "name": "Jeu du pendu.ipynb",
      "provenance": [],
      "collapsed_sections": []
    },
    "kernelspec": {
      "name": "python3",
      "display_name": "Python 3"
    },
    "language_info": {
      "name": "python"
    }
  },
  "cells": [
    {
      "cell_type": "code",
      "metadata": {
        "id": "COU9cnEzTKWs",
        "colab": {
          "base_uri": "https://localhost:8080/"
        },
        "outputId": "741e8578-56e4-441e-eda2-d2ff7dcdb2d8"
      },
      "source": [
        "import random ## import de random pour le choix aléatoire\n",
        "\n",
        "print(\"Jeu du pendu !!\")\n",
        "\n",
        "v=6  ## compteur du nombre d'essaie de l'user\n",
        "\n",
        "choix = [\"python\",\"programmation\"]\n",
        "\n",
        "mot = random.choice(choix).upper()\n",
        "\n",
        "\n",
        "while v>0:\n",
        "    l=input(\"entrer une lettre :\")[0:1].upper()\n",
        "    i_l=mot.find(l)\n",
        "    \n",
        "    if i_l!=(-1):\n",
        "        print(\"# \"*i_l+mot[i_l]+' #'*(len(mot)-i_l-1))\n",
        "        \n",
        "    else:\n",
        "        print(\"# \"*len(mot))\n",
        "    v-=1\n",
        "\n",
        "mot_proposer = input(\"Saisissez un mot :\").upper()\n",
        "if mot_proposer == mot:\n",
        "  print(\"Gagner ! c'etait bien le mot:\",mot)\n",
        "else:\n",
        "  print(\"Perdu ! ce n'etais pas :\",mot_proposer,\",mais bien\",mot)"
      ],
      "execution_count": null,
      "outputs": [
        {
          "output_type": "stream",
          "text": [
            "Jeu du pendu !!\n",
            "entrer une lettre :p\n",
            "P # # # # # # # # # # # #\n",
            "entrer une lettre :o\n",
            "# # O # # # # # # # # # #\n",
            "entrer une lettre :r\n",
            "# R # # # # # # # # # # #\n",
            "entrer une lettre :m\n",
            "# # # # # # M # # # # # #\n",
            "entrer une lettre :i\n",
            "# # # # # # # # # # I # #\n",
            "entrer une lettre :o\n",
            "# # O # # # # # # # # # #\n",
            "Saisissez un mot :c\n",
            "Perdu ! ce n'etais pas : C ,mais bien PROGRAMMATION\n"
          ],
          "name": "stdout"
        }
      ]
    },
    {
      "cell_type": "markdown",
      "metadata": {
        "id": "qbQHUMPUTCfb"
      },
      "source": [
        ""
      ]
    },
    {
      "cell_type": "code",
      "metadata": {
        "id": "Fp_jGQvHaTX2"
      },
      "source": [
        "import random ## import de random pour le choix aléatoire\n",
        "\n",
        "print(\"Jeu du pendu !!\")\n",
        "\n",
        "v=6  ## compteur du nombre d'essaie de l'user\n",
        "\n",
        "choix = [\"python\",\"programmation\"]\n",
        "\n",
        "mot = random.choice(choix).upper()\n",
        "\n",
        "\n",
        "while v>0:\n",
        "    l=input(\"entrer une lettre :\")[0:1].upper()\n",
        "    i_l=mot.find(l)\n",
        "    \n",
        "    if i_l!=(-1):\n",
        "        print(\"# \"*i_l+mot[i_l]+' #'*(len(mot)-i_l-1))\n",
        "        \n",
        "    else:\n",
        "        print(\"# \"*len(mot))\n",
        "    v-=1\n",
        "\n",
        "mot_proposer = input(\"Saisissez un mot :\").upper()\n",
        "if mot_proposer == mot:\n",
        "  print(\"Gagner ! c'etait bien le mot:\",mot)\n",
        "else:\n",
        "  print(\"Perdu ! ce n'etais pas :\",mot_proposer,\",mais bien\",mot)\n",
        "\n"
      ],
      "execution_count": null,
      "outputs": []
    }
  ]
}