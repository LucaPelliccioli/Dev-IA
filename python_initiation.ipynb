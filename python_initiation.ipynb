{
 "metadata": {
  "language_info": {
   "codemirror_mode": {
    "name": "ipython",
    "version": 3
   },
   "file_extension": ".py",
   "mimetype": "text/x-python",
   "name": "python",
   "nbconvert_exporter": "python",
   "pygments_lexer": "ipython3",
   "version": "3.8.5-final"
  },
  "orig_nbformat": 2,
  "kernelspec": {
   "name": "python3",
   "display_name": "Python 3.8.5 64-bit ('base': conda)",
   "metadata": {
    "interpreter": {
     "hash": "64b474f71659f9be32f34132c3eef93d33d176ead871b80ca6db3fa26bc83f65"
    }
   }
  }
 },
 "nbformat": 4,
 "nbformat_minor": 2,
 "cells": [
  {
   "cell_type": "code",
   "execution_count": 1,
   "metadata": {},
   "outputs": [],
   "source": [
    "import numpy as np\n",
    "import matplotlib.pyplot as plt\n",
    "import pandas as pd"
   ]
  },
  {
   "cell_type": "code",
   "execution_count": 2,
   "metadata": {},
   "outputs": [
    {
     "output_type": "stream",
     "name": "stdout",
     "text": [
      "123\n<class 'int'>\n"
     ]
    }
   ],
   "source": [
    "a = 123.5\n",
    "b = int(a)\n",
    "print(b)\n",
    "print(type(b))"
   ]
  },
  {
   "cell_type": "code",
   "execution_count": 3,
   "metadata": {},
   "outputs": [
    {
     "output_type": "stream",
     "name": "stdout",
     "text": [
      "<class 'str'>\n<class 'str'>\n7 3.14\n"
     ]
    }
   ],
   "source": [
    "a = 7\n",
    "b = 3.14\n",
    "\n",
    "c = str(a)\n",
    "d = str(b)\n",
    "\n",
    "print(type(c))\n",
    "print(type(d))\n",
    "print(c, d)"
   ]
  },
  {
   "cell_type": "code",
   "execution_count": 4,
   "metadata": {},
   "outputs": [
    {
     "output_type": "stream",
     "name": "stdout",
     "text": [
      "False\nTrue\nFalse\nTrue\nFalse\n"
     ]
    }
   ],
   "source": [
    "A = B = True\n",
    "C = D = False\n",
    "print((A or B) and (C or D))\n",
    "print(A or (B and C))\n",
    "print(A and B and (C or D))\n",
    "print((A and B) or (not C))\n",
    "print((not A) or D)"
   ]
  },
  {
   "cell_type": "code",
   "execution_count": 5,
   "metadata": {},
   "outputs": [
    {
     "output_type": "stream",
     "name": "stdout",
     "text": [
      "7\n-2\n7\n17\n8.988\n"
     ]
    }
   ],
   "source": [
    "print(abs(-3) + max(3,4))\n",
    "print(min (4,8,0,-2))\n",
    "print(max(min(7,8), min(4,6)))\n",
    "print(round(8.324) + round(8.88))\n",
    "print(round(8.98795136,3))"
   ]
  },
  {
   "cell_type": "code",
   "execution_count": 21,
   "metadata": {},
   "outputs": [
    {
     "output_type": "stream",
     "name": "stdout",
     "text": [
      "-1.837959396219991\n4.171292729553325\n"
     ]
    }
   ],
   "source": [
    "import math\n",
    "\n",
    "a = 3\n",
    "b = -7\n",
    "c = -23\n",
    "\n",
    "delta =  b**2-(4*a*c)\n",
    "\n",
    "x1 = (-b-delta**0.5)/(2*a)\n",
    "x2 = (-b+delta**0.5)/(2*a)\n",
    "\n",
    "print(x1)\n",
    "print(x2)"
   ]
  },
  {
   "cell_type": "code",
   "execution_count": 31,
   "metadata": {},
   "outputs": [
    {
     "output_type": "stream",
     "name": "stdout",
     "text": [
      "Volume d'un cone droit :13.159472534785811\n"
     ]
    }
   ],
   "source": [
    "largeur = int(input('Entrez la largeur : '))\n",
    "hauteur = int(input(\"Entrez l'hauteur : \"))\n",
    "\n",
    "v = (math.pi**2*largeur*hauteur)/3\n",
    "\n",
    "print(\"Volume d'un cone droit :\" + str(v))"
   ]
  },
  {
   "cell_type": "code",
   "execution_count": null,
   "metadata": {},
   "outputs": [],
   "source": []
  }
 ]
}