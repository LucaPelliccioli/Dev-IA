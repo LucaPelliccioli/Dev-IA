{
 "metadata": {
  "language_info": {
   "codemirror_mode": {
    "name": "ipython",
    "version": 3
   },
   "file_extension": ".py",
   "mimetype": "text/x-python",
   "name": "python",
   "nbconvert_exporter": "python",
   "pygments_lexer": "ipython3",
   "version": "3.8.5-final"
  },
  "orig_nbformat": 2,
  "kernelspec": {
   "name": "python3",
   "display_name": "Python 3.8.5 64-bit ('base': conda)",
   "metadata": {
    "interpreter": {
     "hash": "64b474f71659f9be32f34132c3eef93d33d176ead871b80ca6db3fa26bc83f65"
    }
   }
  }
 },
 "nbformat": 4,
 "nbformat_minor": 2,
 "cells": [
  {
   "cell_type": "code",
   "execution_count": 1,
   "metadata": {},
   "outputs": [],
   "source": [
    "import numpy as np\n",
    "import matplotlib.pyplot as plt\n",
    "import pandas as pd"
   ]
  },
  {
   "cell_type": "code",
   "execution_count": 2,
   "metadata": {},
   "outputs": [
    {
     "output_type": "stream",
     "name": "stdout",
     "text": [
      "123\n<class 'int'>\n"
     ]
    }
   ],
   "source": [
    "a = 123.5\n",
    "b = int(a)\n",
    "print(b)\n",
    "print(type(b))"
   ]
  },
  {
   "cell_type": "code",
   "execution_count": 3,
   "metadata": {},
   "outputs": [
    {
     "output_type": "stream",
     "name": "stdout",
     "text": [
      "<class 'str'>\n<class 'str'>\n7 3.14\n"
     ]
    }
   ],
   "source": [
    "a = 7\n",
    "b = 3.14\n",
    "\n",
    "c = str(a)\n",
    "d = str(b)\n",
    "\n",
    "print(type(c))\n",
    "print(type(d))\n",
    "print(c, d)"
   ]
  },
  {
   "cell_type": "code",
   "execution_count": 4,
   "metadata": {},
   "outputs": [
    {
     "output_type": "stream",
     "name": "stdout",
     "text": [
      "False\nTrue\nFalse\nTrue\nFalse\n"
     ]
    }
   ],
   "source": [
    "A = B = True\n",
    "C = D = False\n",
    "print((A or B) and (C or D))\n",
    "print(A or (B and C))\n",
    "print(A and B and (C or D))\n",
    "print((A and B) or (not C))\n",
    "print((not A) or D)"
   ]
  },
  {
   "cell_type": "code",
   "execution_count": 5,
   "metadata": {},
   "outputs": [
    {
     "output_type": "stream",
     "name": "stdout",
     "text": [
      "7\n-2\n7\n17\n8.988\n"
     ]
    }
   ],
   "source": [
    "print(abs(-3) + max(3,4))\n",
    "print(min (4,8,0,-2))\n",
    "print(max(min(7,8), min(4,6)))\n",
    "print(round(8.324) + round(8.88))\n",
    "print(round(8.98795136,3))"
   ]
  },
  {
   "cell_type": "code",
   "execution_count": 21,
   "metadata": {},
   "outputs": [
    {
     "output_type": "stream",
     "name": "stdout",
     "text": [
      "-1.837959396219991\n4.171292729553325\n"
     ]
    }
   ],
   "source": [
    "import math\n",
    "\n",
    "a = 3\n",
    "b = -7\n",
    "c = -23\n",
    "\n",
    "delta =  b**2-(4*a*c)\n",
    "\n",
    "x1 = (-b-delta**0.5)/(2*a)\n",
    "x2 = (-b+delta**0.5)/(2*a)\n",
    "\n",
    "print(x1)\n",
    "print(x2)"
   ]
  },
  {
   "cell_type": "code",
   "execution_count": 31,
   "metadata": {},
   "outputs": [
    {
     "output_type": "stream",
     "name": "stdout",
     "text": [
      "Volume d'un cone droit :13.159472534785811\n"
     ]
    }
   ],
   "source": [
    "largeur = int(input('Entrez la largeur : '))\n",
    "hauteur = int(input(\"Entrez l'hauteur : \"))\n",
    "\n",
    "v = (math.pi**2*largeur*hauteur)/3\n",
    "\n",
    "print(\"Volume d'un cone droit :\" + str(v))"
   ]
  },
  {
   "cell_type": "code",
   "execution_count": 1,
   "metadata": {},
   "outputs": [
    {
     "output_type": "stream",
     "name": "stdout",
     "text": [
      "Vive la data avec un grand D\n"
     ]
    }
   ],
   "source": [
    "a = 'DevData'\n",
    "\n",
    "if a == 'DevData':\n",
    "    print('Vive la data avec un grand D')\n",
    "else :\n",
    "    print(\"Est ce qu'il y a de la data à Cannes\")"
   ]
  },
  {
   "cell_type": "code",
   "execution_count": 4,
   "metadata": {},
   "outputs": [
    {
     "output_type": "stream",
     "name": "stdout",
     "text": [
      "La Juventus fa schifo\n"
     ]
    }
   ],
   "source": [
    "a = 'amo la pallanuoto'\n",
    "\n",
    "if a == 'Amo la pallanuoto':\n",
    "    print('Data')\n",
    "elif a == 'amo la pallanuoto':\n",
    "    print('La Juventus fa schifo')\n",
    "else :\n",
    "    print('Mi sono perso')"
   ]
  },
  {
   "cell_type": "code",
   "execution_count": 11,
   "metadata": {},
   "outputs": [
    {
     "output_type": "stream",
     "name": "stdout",
     "text": [
      "[4, 5, 6, 'amo', 'la', 'pallanuoto']\npallanuoto\nDataIA\n"
     ]
    }
   ],
   "source": [
    "playlist = [4,5,6, 'amo', 'la', 'pallanuoto']\n",
    "print(playlist)\n",
    "print(playlist[5])\n",
    "\n",
    "playlist[0] = 'DataIA'\n",
    "print(playlist[0])"
   ]
  },
  {
   "cell_type": "code",
   "execution_count": 13,
   "metadata": {},
   "outputs": [
    {
     "output_type": "stream",
     "name": "stdout",
     "text": [
      "DataIA\n5\n6\namo\nla\npallanuoto\n"
     ]
    }
   ],
   "source": [
    "for k in playlist:\n",
    "    print(k)"
   ]
  },
  {
   "cell_type": "code",
   "execution_count": 15,
   "metadata": {},
   "outputs": [
    {
     "output_type": "stream",
     "name": "stdout",
     "text": [
      "n\nu\no\nt\no\n"
     ]
    }
   ],
   "source": [
    "a = 'nuoto'\n",
    "\n",
    "for k in a:\n",
    "    print(k)"
   ]
  },
  {
   "cell_type": "code",
   "execution_count": 16,
   "metadata": {},
   "outputs": [
    {
     "output_type": "stream",
     "name": "stdout",
     "text": [
      "x a pour valeur:  1\nx a pour valeur:  2\nx a pour valeur:  4\nx a pour valeur:  8\nFin\n"
     ]
    }
   ],
   "source": [
    "x = 1\n",
    "\n",
    "while x < 10:\n",
    "    print('x a pour valeur: ', x)\n",
    "    x = x * 2\n",
    "    \n",
    "print('Fin')"
   ]
  },
  {
   "cell_type": "code",
   "execution_count": 21,
   "metadata": {},
   "outputs": [
    {
     "output_type": "stream",
     "name": "stdout",
     "text": [
      "0\n1\n2\n3\n4\n"
     ]
    }
   ],
   "source": [
    "for i in range(5):\n",
    "    print(i)"
   ]
  },
  {
   "cell_type": "code",
   "execution_count": 22,
   "metadata": {},
   "outputs": [
    {
     "output_type": "stream",
     "name": "stdout",
     "text": [
      "6\n7\n8\n"
     ]
    }
   ],
   "source": [
    "for l in range(6,9):\n",
    "    print(l)"
   ]
  },
  {
   "cell_type": "code",
   "execution_count": 24,
   "metadata": {},
   "outputs": [
    {
     "output_type": "stream",
     "name": "stdout",
     "text": [
      "6\n8\n"
     ]
    }
   ],
   "source": [
    "for i in range(6,9,2):\n",
    "    print(i)"
   ]
  },
  {
   "cell_type": "code",
   "execution_count": 30,
   "metadata": {},
   "outputs": [
    {
     "output_type": "execute_result",
     "data": {
      "text/plain": [
       "[2, 3, 10, 29, 66, 127, 218, 345, 514, 731, 7]"
      ]
     },
     "metadata": {},
     "execution_count": 30
    }
   ],
   "source": [
    "playList = [i**3 + 2 for i in range(10)]\n",
    "playList\n",
    "playList.append(7)\n",
    "playList"
   ]
  },
  {
   "cell_type": "code",
   "execution_count": 80,
   "metadata": {},
   "outputs": [
    {
     "output_type": "stream",
     "name": "stdout",
     "text": [
      "3\n"
     ]
    }
   ],
   "source": [
    "#Ex 1 \n",
    "\"\"\"\n",
    "nombre = int(input('Entrez un nombre : '))\n",
    "\n",
    "if (n%2)== 0:\n",
    "    print(\"{0} est Paire\".format(n))\n",
    "else : \n",
    "    print(\"{0} est impair\".format(nombre))\n",
    "\"\"\"\n",
    "\n",
    "class chiffre_:\n",
    "    def __init__(self, chiffre):\n",
    "        self.chiffre = chiffre\n",
    "\n",
    "    def verif(chiffre):\n",
    "        if chiffre%2 == 0:\n",
    "            print(chiffre, 'Ceci est un chiffre pair')\n",
    "        else :\n",
    "            print(chiffre, \"Ceci est un chiffre impair\")\n",
    "\n",
    "a = chiffre_(3)\n",
    "print(a.chiffre) #attribut\n",
    "a.verif"
   ]
  },
  {
   "cell_type": "code",
   "execution_count": 48,
   "metadata": {},
   "outputs": [
    {
     "output_type": "stream",
     "name": "stdout",
     "text": [
      "Essayez à nouveau\n"
     ]
    }
   ],
   "source": [
    "#Ex 2\n",
    "coté1 = int(input('Entrez la valeur du coté1 : '))\n",
    "coté2 = int(input('Entrez la valeur du coté2 : '))\n",
    "hypothénuse = int(input(\"Entrez la valeur de l'hypothénuse : \"))\n",
    "\n",
    "if hypothénuse**2 == (coté1**2 + coté2**2):\n",
    "    print('Ceci est un triangle rectangle')\n",
    "else :\n",
    "    print('Essayez à nouveau')"
   ]
  },
  {
   "source": [
    "#Ex 3\n",
    "while True:\n",
    "    prixht = int(input('prixht'))\n",
    "    if prixht != 0:\n",
    "     print(prixht)\n",
    "     prixttc = prixht + 20/100 * prixht\n",
    "     print(prixttc + 'prix ttc', end=\"\")\n",
    "    else :\n",
    "        break"
   ],
   "cell_type": "code",
   "metadata": {},
   "execution_count": null,
   "outputs": []
  },
  {
   "cell_type": "code",
   "execution_count": 64,
   "metadata": {},
   "outputs": [
    {
     "output_type": "execute_result",
     "data": {
      "text/plain": [
       "[1, 2, 3, 4, 5, 7, 8, 9]"
      ]
     },
     "metadata": {},
     "execution_count": 64
    }
   ],
   "source": [
    "#Ex 4\n",
    "l1 = [2, 7, 3, 1, 5, 7, 1]\n",
    "l2 = [8, 5, 9, 4, 1, 1, 5]\n",
    "l3 = l1 + l2\n",
    "list(set(l3))"
   ]
  },
  {
   "cell_type": "code",
   "execution_count": 72,
   "metadata": {},
   "outputs": [
    {
     "output_type": "stream",
     "name": "stdout",
     "text": [
      "['1', '3', '4', '3', '2']\nCeci n'est pas un palindrome\n"
     ]
    }
   ],
   "source": [
    "#Ex 5\n",
    "list1 = list(input('Taper une liste : '))\n",
    "list2 = list1[::-1]\n",
    "print(list2)\n",
    "if list1 == list2:\n",
    "    print('Ceci est un palindrome')\n",
    "else : \n",
    "    print(\"Ceci n'est pas un palindrome\")"
   ]
  },
  {
   "cell_type": "code",
   "execution_count": 1,
   "metadata": {},
   "outputs": [
    {
     "output_type": "stream",
     "name": "stdout",
     "text": [
      "o\nj\nnjou\nBONJOUR\nbonnuit\n3\n"
     ]
    }
   ],
   "source": [
    "a = \"bonjour\"\n",
    "\n",
    "print(a[1])\n",
    "print(a[-4])\n",
    "print(a[2:-1])\n",
    "print(a.upper())\n",
    "print(a.replace('jour', 'nuit'))\n",
    "print(a.find('jour'))"
   ]
  },
  {
   "cell_type": "code",
   "execution_count": 3,
   "metadata": {},
   "outputs": [
    {
     "output_type": "stream",
     "name": "stdout",
     "text": [
      "0\n10\n20\n"
     ]
    }
   ],
   "source": [
    "a = 10 \n",
    "\n",
    "for k in range(3):\n",
    "    b = k * a\n",
    "    print(b)"
   ]
  },
  {
   "cell_type": "code",
   "execution_count": 2,
   "metadata": {},
   "outputs": [
    {
     "output_type": "stream",
     "name": "stdout",
     "text": [
      "je mange\ntu manges\nil mange\nnous mangons\nvous mangez\nils mangent\n\n----------\nje mange\ntu manges\nil mange\nnous mangons\nvous mangez\nils mangent\n\n----------\nje mange\ntu manges\nil mange\nnous mangons\nvous mangez\nils mangent\n\n----------\nj'aime\ntu aimes\nil aime\nnous aimons\nvous aimez\nils aiment\n"
     ]
    }
   ],
   "source": [
    "#Ex 1 - Ecrire un programme qui demande à un utilisateur de saisir un verbe du premier groupe et afficher la conjugaison du verbe au présent de l’indicatif\n",
    "\n",
    "verbe_conjugé = input('Entrez votre verbe à conjuger :')\n",
    "\n",
    "#Méthode Liste\n",
    "pronoms = [\"je \", \"tu \", \"il \", \"nous \", \"vous \", \"ils \"]\n",
    "terminaisons = [\"e\", \"es\", \"e\", \"ons\", \"ez\", \"ent\"]\n",
    "\n",
    "for i in range(len(pronoms)):\n",
    "    #if verbe_conjugé.count('g') > 0: \n",
    "        print(pronoms[i] + verbe_conjugé[:-2] + terminaisons[i])\n",
    "\n",
    "print(\"\\n----------\")\n",
    "\n",
    "#Méthode Dictionnaire\n",
    "conjugaison = {'je':'e','tu':'es','il':'e','nous':'ons','vous':'ez','ils':'ent'}\n",
    "\n",
    "for i, k in conjugaison.items():\n",
    "    print(i + ' ' + verbe_conjugé[:-2] + k)\n",
    "\n",
    "print(\"\\n----------\")\n",
    "\n",
    "#Méthode Fonction\n",
    "def conjugaison(verbe):\n",
    "    pronoms = [\"je \", \"tu \", \"il \", \"nous \", \"vous \", \"ils \"]\n",
    "    terminaisons = [\"e\", \"es\", \"e\", \"ons\", \"ez\", \"ent\"]\n",
    "    baseVerbale = verbe[:-2]\n",
    "    if baseVerbale[0] in [\"a\", \"e\", \"h\", \"i\", \"o\", \"u\", \"y\"]:\n",
    "        pronoms[0] = \"j'\" \n",
    "    for i in range(6):\n",
    "        print(pronoms[i] + baseVerbale + terminaisons[i])\n",
    "\n",
    "conjugaison(\"manger\")\n",
    "print(\"\\n----------\")\n",
    "conjugaison(\"aimer\")"
   ]
  },
  {
   "cell_type": "code",
   "execution_count": 55,
   "metadata": {},
   "outputs": [
    {
     "output_type": "stream",
     "name": "stdout",
     "text": [
      "La distance de Hamming est de :  2\n"
     ]
    }
   ],
   "source": [
    "#Ex 2 - Distance entre deux mots\n",
    "\n",
    "mot1 = input('Entrez le premier mot : ')\n",
    "mot2 = input('Entrez un deuxième mot de meme longueur que le premier : ')\n",
    "\n",
    "assert len(mot1) == len(mot2)\n",
    "identique = 0\n",
    "\n",
    "for i in range(len(mot1)):\n",
    "    if mot1[i] != mot2[i]:\n",
    "        identique += 1\n",
    "\n",
    "print('La distance de Hamming est de : ', identique)"
   ]
  },
  {
   "cell_type": "code",
   "execution_count": 115,
   "metadata": {},
   "outputs": [
    {
     "output_type": "stream",
     "name": "stdout",
     "text": [
      "simplon\nnolpmis"
     ]
    }
   ],
   "source": [
    "#Ex 3 - Afficher un mot à l’envers \n",
    "\n",
    "entrez_mot = input('Entrez un mot : ')\n",
    "print(entrez_mot)\n",
    "\n",
    "\"\"\"\n",
    "reversed(entrez_mot)\n",
    "\"\".join(reversed(entrez_mot))\n",
    "\"\"\"\n",
    "\n",
    "for lettre in range(len(entrez_mot)):\n",
    "    print(entrez_mot[::-1], end=\"\")\n",
    "    break"
   ]
  },
  {
   "cell_type": "code",
   "execution_count": 6,
   "metadata": {},
   "outputs": [
    {
     "output_type": "stream",
     "name": "stdout",
     "text": [
      "Déterminant inférieur à 0\n"
     ]
    }
   ],
   "source": [
    "#Ex 4 - Calculer les solutions, si elles existent, du polynôme ax² + bx + c = 0\n",
    "\n",
    "a = int(input(\"Entrez une valeur pour a : \"))\n",
    "b = int(input(\"Entrez une valeur pour b : \"))\n",
    "c = int(input(\"Entrez une valeur pour c : \"))\n",
    "\n",
    "delta =  b**2-(4*a*c)\n",
    "\n",
    "if delta < 0:\n",
    "    print(\"Déterminant inférieur à 0\")\n",
    "elif delta == 0:\n",
    "    x1 = -b/(2*a)\n",
    "    print(\"x =\", round(x1,3))\n",
    "else:\n",
    "    x1 = (-b-delta**0.5)/(2*a)\n",
    "    x2 = (-b+delta**0.5)/(2*a)\n",
    "    print(\"x1 =\", round(x1,3))\n",
    "    print(\"x2 =\", round(x2,3))"
   ]
  },
  {
   "cell_type": "code",
   "execution_count": 27,
   "metadata": {},
   "outputs": [
    {
     "output_type": "stream",
     "name": "stdout",
     "text": [
      "6\n"
     ]
    }
   ],
   "source": [
    "#Ex 5 - Additionner les n premiers entiers\n",
    "\n",
    "nbre_entier = int(input('Entrez un nombre entier : '))\n",
    "additionner = 0\n",
    "\n",
    "for add in range(nbre_entier):\n",
    "    additionner += add + 1\n",
    "print(additionner)"
   ]
  },
  {
   "cell_type": "code",
   "execution_count": 10,
   "metadata": {},
   "outputs": [
    {
     "output_type": "stream",
     "name": "stdout",
     "text": [
      "0\n1\n3\n6\n"
     ]
    }
   ],
   "source": [
    "n = int(input(\"Entrez un nombr entier : \"))\n",
    "result = 0\n",
    "for i in range(0,n+1):\n",
    "    result = result + i\n",
    "    print(result)"
   ]
  },
  {
   "cell_type": "code",
   "execution_count": 12,
   "metadata": {},
   "outputs": [
    {
     "output_type": "stream",
     "name": "stdout",
     "text": [
      "6 \n\n"
     ]
    }
   ],
   "source": [
    "def n_premiers():\n",
    "    try:\n",
    "        n = int(input('Votre nombre entier n (-1 pour quitter) : '))\n",
    "        #if n < 0:\n",
    "        # exit()\n",
    "        print(sum(range(n + 1)), \"\\n\")\n",
    "    except ValueError:\n",
    "        print(\"Ce n'est pas un nombre entier valide\")\n",
    "        #n_premiers()\n",
    "\n",
    "n_premiers()"
   ]
  },
  {
   "cell_type": "code",
   "execution_count": 43,
   "metadata": {},
   "outputs": [
    {
     "output_type": "stream",
     "name": "stdout",
     "text": [
      "XX01234567890123456789012345678901234567890123456789\n0.50000000000000000000000000000000000000000000000000\n0.25000000000000000000000000000000000000000000000000\n0.12500000000000000000000000000000000000000000000000\n0.06250000000000000000000000000000000000000000000000\n0.03125000000000000000000000000000000000000000000000\n0.01562500000000000000000000000000000000000000000000\n0.00781250000000000000000000000000000000000000000000\n0.00390625000000000000000000000000000000000000000000\n0.00195312500000000000000000000000000000000000000000\n0.00097656250000000000000000000000000000000000000000\n0.00048828125000000000000000000000000000000000000000\n0.00024414062500000000000000000000000000000000000000\n0.00012207031250000000000000000000000000000000000000\n0.00006103515625000000000000000000000000000000000000\n0.00003051757812500000000000000000000000000000000000\n0.00001525878906250000000000000000000000000000000000\n0.00000762939453125000000000000000000000000000000000\n0.00000381469726562500000000000000000000000000000000\n0.00000190734863281250000000000000000000000000000000\n0.00000095367431640625000000000000000000000000000000\n0.00000047683715820312500000000000000000000000000000\n0.00000023841857910156250000000000000000000000000000\n0.00000011920928955078125000000000000000000000000000\n0.00000005960464477539062500000000000000000000000000\n0.00000002980232238769531250000000000000000000000000\n0.00000001490116119384765625000000000000000000000000\n0.00000000745058059692382812500000000000000000000000\n0.00000000372529029846191406250000000000000000000000\n0.00000000186264514923095703125000000000000000000000\n0.00000000093132257461547851562500000000000000000000\n0.00000000046566128730773925781250000000000000000000\n0.00000000023283064365386962890625000000000000000000\n0.00000000011641532182693481445312500000000000000000\n0.00000000005820766091346740722656250000000000000000\n0.00000000002910383045673370361328125000000000000000\n0.00000000001455191522836685180664062500000000000000\n0.00000000000727595761418342590332031250000000000000\n0.00000000000363797880709171295166015625000000000000\n0.00000000000181898940354585647583007812500000000000\n0.00000000000090949470177292823791503906250000000000\n0.00000000000045474735088646411895751953125000000000\n0.00000000000022737367544323205947875976562500000000\n0.00000000000011368683772161602973937988281250000000\n0.00000000000005684341886080801486968994140625000000\n0.00000000000002842170943040400743484497070312500000\n0.00000000000001421085471520200371742248535156250000\n0.00000000000000710542735760100185871124267578125000\n0.00000000000000355271367880050092935562133789062500\n0.00000000000000177635683940025046467781066894531250\n0.00000000000000088817841970012523233890533447265625\n"
     ]
    }
   ],
   "source": [
    "#Ex 6 - L'infiniement petit\n",
    "\n",
    "print('XX' + ('0123456789' * 5))\n",
    "valeur = 1\n",
    "\n",
    "for k in range(50):\n",
    "    valeur = valeur/2\n",
    "    print(\"{0:1.50f}\".format(valeur))"
   ]
  },
  {
   "cell_type": "code",
   "execution_count": 42,
   "metadata": {},
   "outputs": [
    {
     "output_type": "stream",
     "name": "stdout",
     "text": [
      "19\n"
     ]
    }
   ],
   "source": [
    "#Ex 7 - Compter les nombres à deux chiffres ayant le chiffre 7 \n",
    "\n",
    "liste1 = []\n",
    "\n",
    "for indice in range(10,100):\n",
    "    liste1.append(indice)\n",
    "print(str(liste1).count('7'))"
   ]
  },
  {
   "cell_type": "code",
   "execution_count": 44,
   "metadata": {},
   "outputs": [
    {
     "output_type": "stream",
     "name": "stdout",
     "text": [
      "19\n"
     ]
    }
   ],
   "source": [
    "liste1 = [indice for indice in range(10,100)]\n",
    "print(str(liste1).count('7'))"
   ]
  },
  {
   "cell_type": "code",
   "execution_count": 10,
   "metadata": {},
   "outputs": [
    {
     "output_type": "stream",
     "name": "stdout",
     "text": [
      "5\n"
     ]
    }
   ],
   "source": [
    "# Ex 8 - Compter les consonnes dans un mot\n",
    "\n",
    "entrez_mot = input('Entrez un mot :')\n",
    "entrez_mot = entrez_mot.upper()\n",
    "compteur_consonnes = 0\n",
    "\n",
    "for k in range(len(entrez_mot)):\n",
    "    if entrez_mot[k] not in ['A','E','I','O','U','Y']:\n",
    "        compteur_consonnes = compteur_consonnes + 1\n",
    "print(compteur_consonnes)"
   ]
  },
  {
   "cell_type": "code",
   "execution_count": 22,
   "metadata": {},
   "outputs": [
    {
     "output_type": "stream",
     "name": "stdout",
     "text": [
      "Entrez le nom à coder: \n",
      "Code :  PLODQ\n",
      "\n",
      "----------\n",
      "Entrez le nom à décoder: \n",
      "En clair : MILAN\n"
     ]
    }
   ],
   "source": [
    "# Ex 9 - Encoder et décrypter un nom\n",
    "\n",
    "nom_agent = input(\"Entrez le nom de l'agent : \")\n",
    "nom_agent = nom_agent.upper()\n",
    "resultat = \" \"\n",
    "\n",
    "print('Entrez le nom à coder: ')\n",
    "\n",
    "for coder in range (len(nom_agent)):\n",
    "    ascii = ord(nom_agent[coder])\n",
    "    code = ascii + 3\n",
    "    if code > ord('Z'):\n",
    "        code -= 26\n",
    "    resultat += chr(code)\n",
    "\n",
    "print(\"Code :\", resultat)\n",
    "\n",
    "\n",
    "print(\"\\n----------\")\n",
    "\n",
    "\n",
    "print(\"Entrez le nom à décoder: \")\n",
    "\n",
    "nom = input()\n",
    "nom = nom.upper()\n",
    "DECODE = \"\"\n",
    "\n",
    "for i in range (len(nom)):\n",
    "    ascii = ord(nom[i])\n",
    "    code = ascii - 3\n",
    "    if code < ord('A'):\n",
    "        code += 26\n",
    "    DECODE += chr(code)\n",
    "\n",
    "print('En clair :', DECODE)"
   ]
  },
  {
   "cell_type": "code",
   "execution_count": 51,
   "metadata": {},
   "outputs": [
    {
     "output_type": "stream",
     "name": "stdout",
     "text": [
      "<html> <head> <title> Mon Titre </title> </head> <body> Texte sur la page </body> </html>\n\n----------\nhtml\nhead\ntitle\n/title\n/head\nbody\n/body\n/html\n"
     ]
    }
   ],
   "source": [
    "# 10 - Encoder et décrypter un nom \n",
    "\n",
    "import re\n",
    "\n",
    "code_html = \"<html> <head> <title> Mon Titre </title> </head> <body> Texte sur la page </body> </html>\"\n",
    "\n",
    "print(code_html)\n",
    "print(\"\\n----------\")\n",
    "\n",
    "for i in range(len(code_html)):\n",
    "    if code_html[i] == \"<\":\n",
    "        ifin = code_html.find(\">\", i)\n",
    "        print(code_html[i+1:ifin])"
   ]
  },
  {
   "cell_type": "code",
   "execution_count": 94,
   "metadata": {},
   "outputs": [
    {
     "output_type": "stream",
     "name": "stdout",
     "text": [
      "LUN MAR MER JEU VEN SAM DIM\n            \n      1   2   3   4   5\n   6   7   8   9  10  11  12\n  13  14  15  16  17  18  19\n  20  21  22  23  24  25  26\n  27  28  29  30"
     ]
    }
   ],
   "source": [
    "# 11 - Afficher le calendrier du mois\n",
    "\n",
    "nbre_jours = int(input('Entrez le nombre de jour dans le mois :'))\n",
    "numéro_jours = int(input('Entrez le numéro du jour démarrant le mois (1 pour lundi, 7 pour dimanche):'))\n",
    "\n",
    "colonne_courante = numéro_jours - 1\n",
    "\n",
    "print('LUN MAR MER JEU VEN SAM DIM')\n",
    "\n",
    "print(\"    \" * (numéro_jours))\n",
    "\n",
    "for jour in range(1, nbre_jours + 1):\n",
    "    if jour == 1:\n",
    "        print('   ', end=\"\")\n",
    "    print(\"{0:4}\".format(jour), end=\"\")\n",
    "    colonne_courante = (colonne_courante + 1) % 7\n",
    "    if colonne_courante == 0:\n",
    "        print()"
   ]
  },
  {
   "cell_type": "code",
   "execution_count": 186,
   "metadata": {},
   "outputs": [
    {
     "output_type": "stream",
     "name": "stdout",
     "text": [
      "LUN  MAR  MER  JEU  VEN  SAM  DIM  \n\n      1    2    3    4    5    6   \n 7    8    9   10   11   12   13   \n14   15   16   17   18   19   20   \n21   22   23   24   25   26   27   \n28   29   30   31   \n\n"
     ]
    }
   ],
   "source": [
    "# month calendar\n",
    "import datetime\n",
    "\n",
    "WEEKDAYS = {\n",
    "    \"LUN\": 0,\n",
    "    \"MAR\": 1,\n",
    "    \"MER\": 2,\n",
    "    \"JEU\": 3,\n",
    "    \"VEN\": 4,\n",
    "    \"SAM\": 5,\n",
    "    \"DIM\": 6\n",
    "}\n",
    "\n",
    "def get_first_day_of_month(month, year):\n",
    "    return datetime.date(year, month, 1)\n",
    "\n",
    "def get_last_day_of_month(month, year):\n",
    "    next_month = datetime.date(year if month < 12 else year + 1, month % 12 + 1, 1)\n",
    "    return next_month + datetime.timedelta(-1)\n",
    "\n",
    "def print_calendar_header():\n",
    "    for weekday in WEEKDAYS:\n",
    "        print(weekday, end=\"\")\n",
    "        print(\"  \", end=\"\")\n",
    "\n",
    "def show_calendar(month, year):\n",
    "    start_date = get_first_day_of_month(month, year)\n",
    "    end_date = get_last_day_of_month(month, year)\n",
    "    current_date = start_date\n",
    "    print_calendar_header()\n",
    "    print(\"\\n\", end=\"\")\n",
    "    weekday = 0\n",
    "    while current_date <= end_date:\n",
    "        if weekday == 0:\n",
    "            print(\"\\n\", end=\"\")\n",
    "        if current_date.weekday() == weekday:\n",
    "            print(\"\" if current_date.day > 9 else \" \", current_date.day, \" \", end=\"\", sep=\"\")\n",
    "            current_date += datetime.timedelta(1)\n",
    "        else:\n",
    "            print(\"   \", end=\"\")\n",
    "        print(\"  \", end=\"\")\n",
    "        weekday = (weekday + 1) % 7\n",
    "    print(\"\\n\")\n",
    "\n",
    "def calendar():\n",
    "    try:\n",
    "        date = input(\"Rentrer la date du jour pour lequel afficher le calendrier (ex: 23/01/2006) ou q pour quitter : \")\n",
    "        #if date == \"q\":\n",
    "        #    exit()\n",
    "        if date == \"\":\n",
    "            date = datetime.date.today().strftime(\"%d/%m/%Y\")\n",
    "        date = date.split(\"/\")\n",
    "        if len(date) != 3:\n",
    "            raise ValueError(\"Vous n'avez pas saisi la date au bon format !\")\n",
    "        date = datetime.date(int(date[2]), int(date[1]), int(date[0]))\n",
    "        show_calendar(date.month, date.year)\n",
    "    except ValueError as e:\n",
    "        print(e)\n",
    "    #calendar()\n",
    "calendar()"
   ]
  },
  {
   "cell_type": "code",
   "execution_count": 145,
   "metadata": {},
   "outputs": [
    {
     "output_type": "stream",
     "name": "stdout",
     "text": [
      "43%\n57%\n"
     ]
    }
   ],
   "source": [
    "# 12 - Statistiques avec pile ou face\n",
    "\n",
    "import random\n",
    "\n",
    "nombre_tirage = int(input('Entrez le nombre de tirage'))\n",
    "\n",
    "pile = 0\n",
    "face = 0\n",
    "\n",
    "for tirage in range(nombre_tirage):\n",
    "    PileFace = random.randint(0,1)\n",
    "    # valeur de pile = 0\n",
    "    if PileFace == 0 :\n",
    "        pile += 1\n",
    "    else :\n",
    "        face += 1\n",
    "print(\"{:.0%}\\n{:.0%}\".format(pile/nombre_tirage, face/nombre_tirage))"
   ]
  },
  {
   "source": [
    "# Fonction"
   ],
   "cell_type": "markdown",
   "metadata": {}
  },
  {
   "cell_type": "code",
   "execution_count": 5,
   "metadata": {},
   "outputs": [
    {
     "output_type": "stream",
     "name": "stdout",
     "text": [
      "1\n"
     ]
    }
   ],
   "source": [
    "#Ex 1 - Calculer le minimum d'une liste\n",
    "\n",
    "def taille_liste(liste):\n",
    "    minimum = liste[5]\n",
    "\n",
    "    for parcourir in liste:\n",
    "        #print(parcourir, minimum)  \n",
    "        if parcourir < minimum:\n",
    "            minimum = parcourir\n",
    "        #print(parcourir, minimum, \"------\")  \n",
    "    print(minimum)\n",
    "\n",
    "liste1 = [7,2,1,3,4,5]\n",
    "taille_liste(liste1)"
   ]
  },
  {
   "cell_type": "code",
   "execution_count": 4,
   "metadata": {},
   "outputs": [
    {
     "output_type": "stream",
     "name": "stdout",
     "text": [
      "1 199200.0\n2 198399.2\n3 197597.59920000003\n4 196795.19679920003\n5 195991.99199599924\n6 195187.98398799525\n7 194383.17197198325\n8 193577.55514395522\n9 192771.13269909917\n10 191963.90383179826\n11 191155.86773563008\n12 190347.0236033657\n13 189537.37062696906\n14 188726.90799759602\n15 187915.63490559362\n16 187103.5505404992\n17 186290.6540910397\n18 185476.94474513075\n19 184662.4216898759\n20 183847.08411156575\n21 183030.93119567732\n22 182213.962126873\n23 181396.17608899987\n24 180577.57226508888\n25 179758.14983735397\n26 178937.9079871913\n27 178116.8458951785\n28 177294.9627410737\n29 176472.25770381477\n30 175648.72996151858\n31 174824.3786914801\n32 173999.20307017156\n33 173173.20227324174\n34 172346.37547551497\n35 171518.7218509905\n36 170690.2405728415\n37 169860.93081341434\n38 169030.79174422775\n39 168199.822535972\n40 167368.02235850797\n41 166535.39038086648\n42 165701.92577124733\n43 164867.6276970186\n44 164032.4953247156\n45 163196.5278200403\n46 162359.72434786035\n47 161522.0840722082\n48 160683.6061562804\n49 159844.2897624367\n50 159004.13405219914\n51 158163.13818625134\n52 157321.30132443758\n53 156478.62262576201\n54 155635.10124838777\n55 154790.73634963616\n56 153945.5270859858\n57 153099.4726130718\n58 152252.57208568486\n59 151404.82465777054\n60 150556.22948242832\n61 149706.78571191075\n62 148856.49249762265\n63 148005.34899012026\n64 147153.35433911037\n65 146300.50769344947\n66 145446.8082011429\n67 144592.25500934405\n68 143736.8472643534\n69 142880.58411161773\n70 142023.46469572934\n71 141165.48816042507\n72 140306.6536485855\n73 139446.96030223407\n74 138586.40726253632\n75 137724.99366979886\n76 136862.71866346867\n77 135999.58138213214\n78 135135.58096351428\n79 134270.7165444778\n80 133404.98726102227\n81 132538.3922482833\n82 131670.93064053156\n83 130802.60157117208\n84 129933.40417274325\n85 129063.33757691599\n86 128192.4009144929\n87 127320.59331540739\n88 126447.9139087228\n89 125574.36182263152\n90 124699.93618445414\n91 123824.63612063859\n92 122948.46075675923\n93 122071.40921751599\n94 121193.48062673351\n95 120314.67410736025\n96 119434.9887814676\n97 118554.42377024906\n98 117672.97819401932\n99 116790.65117221334\n100 115907.44182338555\n101 115023.34926520893\n102 114138.37261447414\n103 113252.51098708861\n104 112365.7634980757\n105 111478.12926157378\n106 110589.60739083536\n107 109700.1969982262\n108 108809.89719522442\n109 107918.70709241965\n110 107026.62579951207\n111 106133.65242531158\n112 105239.78607773689\n113 104345.02586381463\n114 103449.37088967845\n115 102552.82026056813\n116 101655.3730808287\n117 100757.02845390952\n118 99857.78548236343\n119 98957.6432678458\n120 98056.60091111364\n121 97154.65751202476\n122 96251.81216953679\n123 95348.06398170632\n124 94443.41204568803\n125 93537.85545773372\n126 92631.39331319145\n127 91724.02470650464\n128 90815.74873121115\n129 89906.56447994236\n130 88996.4710444223\n131 88085.46751546672\n132 87173.55298298219\n133 86260.72653596518\n134 85346.98726250115\n135 84432.33424976365\n136 83516.76658401341\n137 82600.28335059743\n138 81682.88363394802\n139 80764.56651758196\n140 79845.33108409954\n141 78925.17641518364\n142 78004.10159159882\n143 77082.10569319042\n144 76159.1877988836\n145 75235.34698668249\n146 74310.58233366917\n147 73384.89291600283\n148 72458.27780891884\n149 71530.73608672776\n150 70602.26682281449\n151 69672.8690896373\n152 68742.54195872694\n153 67811.28450068567\n154 66879.09578518635\n155 65945.97488097154\n156 65011.92085585251\n157 64076.93277670837\n158 63141.00970948508\n159 62204.150719194564\n160 61266.35486991376\n161 60327.621224783674\n162 59387.948846008454\n163 58447.33679485446\n164 57505.784131649314\n165 56563.289915780966\n166 55619.853205696745\n167 54675.47305890244\n168 53730.14853196134\n169 52783.878680493304\n170 51836.6625591738\n171 50888.49922173297\n172 49939.387720954706\n173 48989.32710867566\n174 48038.316435784334\n175 47086.35475222012\n176 46133.441106972336\n177 45179.574548079305\n178 44224.75412262738\n179 43268.97887675001\n180 42312.24785562676\n181 41354.560103482385\n182 40395.91466358587\n183 39436.31057824945\n184 38475.7468888277\n185 37514.22263571653\n186 36551.73685835225\n187 35588.2885952106\n188 34623.87688380581\n189 33658.50076068962\n190 32692.159261450306\n191 31724.851420711755\n192 30756.576272132468\n193 29787.3328484046\n194 28817.120181253005\n195 27845.93730143426\n196 26873.783238735694\n197 25900.657021974428\n198 24926.557678996403\n199 23951.4842366754\n200 22975.435720912075\n201 21998.41115663299\n202 21020.409567789622\n203 20041.429977357413\n204 19061.47140733477\n205 18080.532878742106\n206 17098.61341162085\n207 16115.71202503247\n208 15131.827737057502\n209 14146.959564794559\n210 13161.106524359353\n211 12174.267630883713\n212 11186.441898514597\n213 10197.628340413112\n214 9207.825968753525\n215 8217.033794722278\n216 7225.250828517001\n217 6232.476079345518\n218 5238.708555424863\n219 4243.947263980288\n220 3248.1912112442683\n221 2251.4394024555127\n222 1253.6908418579683\n223 254.94453269982625\nSomme empruntée :  200000\nMensualités     :  1000\nNombre de mois  :  224\nIntérêts versés :  23254\n"
     ]
    }
   ],
   "source": [
    "#Ex 2 - Calculer la durée de remboursement d'un pret \n",
    "\n",
    "def Remboursement(montant_a_rembourser,taux_mensuel,versement) : \n",
    "    interets_verses = montant_a_rembourser * taux_mensuel / 100 \n",
    "    remboursement = versement - interets_verses \n",
    "    return (interets_verses, remboursement) \n",
    "    \n",
    "emprunt = 200000 \n",
    "a_rembourser = emprunt \n",
    "versement = 1000 \n",
    "total_interet = 0 \n",
    "taux = 0.1 \n",
    "nb_mois = 0 \n",
    " \n",
    "while (a_rembourser > versement ) :  \n",
    "    interets, rembou = Remboursement(a_rembourser,taux,versement) \n",
    "    total_interet += interets \n",
    "    a_rembourser -= rembou \n",
    "    nb_mois += 1 \n",
    "    print(nb_mois, a_rembourser)\n",
    "\n",
    "nb_mois +=1 # dernier mois \n",
    " \n",
    "print(\"Somme empruntée : \",emprunt) \n",
    "print(\"Mensualités     : \",versement) \n",
    "print(\"Nombre de mois  : \", nb_mois) \n",
    "print(\"Intérêts versés : \", int(total_interet)) "
   ]
  },
  {
   "cell_type": "code",
   "execution_count": 8,
   "metadata": {},
   "outputs": [
    {
     "output_type": "stream",
     "name": "stdout",
     "text": [
      "Il y a eu 224 mois et un interet total de 23254.94453269991\n"
     ]
    }
   ],
   "source": [
    "#Ex 2 - Calculer la durée de remboursement d'un pret \n",
    "\n",
    "def rembourser(montant, prix = 200000):\n",
    "\n",
    "    restant = prix \n",
    "    compteur = 0\n",
    "    interetTotal = 0\n",
    "\n",
    "    while(restant > montant):\n",
    "\n",
    "        #on ajoute l'interet du mois à l'interet total payé\n",
    "        interetTotal += restant * (0.001) \n",
    "\n",
    "        #on ajoute l'interet du mois à la somme restant à payer\n",
    "        restant += restant * (0.001)\n",
    "\n",
    "        #on retire de cette somme le montant que l'on paue\n",
    "        restant -= montant\n",
    "\n",
    "        #et on compte un mois de plus\n",
    "        compteur += 1\n",
    "\n",
    "    #on compte le dernier mois \n",
    "    compteur += 1\n",
    "    return compteur, interetTotal\n",
    "\n",
    "resultat = rembourser(float(input('Combien voulez vous donner par mois?')))\n",
    "print('Il y a eu', resultat[0], 'mois et un interet total de', resultat[1])\n"
   ]
  },
  {
   "source": [
    "# Exercice premier pas avec python - suite"
   ],
   "cell_type": "markdown",
   "metadata": {}
  },
  {
   "cell_type": "code",
   "execution_count": 56,
   "metadata": {},
   "outputs": [
    {
     "output_type": "stream",
     "name": "stdout",
     "text": [
      "55\n"
     ]
    }
   ],
   "source": [
    "# Ex 1 - Calculer la somme d'une liste\n",
    "\n",
    "liste = [1,2,3,4,5,6,7,8,9,10]\n",
    "somme_liste = 0\n",
    "\n",
    "for somme in liste:\n",
    "    somme_liste = somme + somme_liste\n",
    "print(somme_liste)"
   ]
  },
  {
   "cell_type": "code",
   "execution_count": 66,
   "metadata": {},
   "outputs": [
    {
     "output_type": "stream",
     "name": "stdout",
     "text": [
      "[2, 4, 6, 8, 10]\n[1, 3, 5, 7, 9]\n"
     ]
    }
   ],
   "source": [
    "# Ex 2 - Répartir les nombres pairs et impairs dans deux listes\n",
    "\n",
    "liste_pair = []\n",
    "liste_impair = []\n",
    "\n",
    "for nombre in liste:\n",
    "    if (nombre%2) == 0:\n",
    "        liste_pair.append(nombre)\n",
    "    else:\n",
    "        liste_impair.append(nombre)\n",
    "\n",
    "print(liste_pair)\n",
    "print(liste_impair)"
   ]
  },
  {
   "cell_type": "code",
   "execution_count": 33,
   "metadata": {},
   "outputs": [
    {
     "output_type": "execute_result",
     "data": {
      "text/plain": [
       "{1: 2, 2: 1, 3: 4, 4: 3, 5: 2, 6: 2, 7: 3, 8: 3, 9: 3}"
      ]
     },
     "metadata": {},
     "execution_count": 33
    }
   ],
   "source": [
    "#3 Compter les occurences de chaque nombre dans une liste\n",
    "\n",
    "liste = [9,4,7,9,4,3,8,5,3,8,1,6,4,9,2,1,7,5,3,8,6,7,3]\n",
    "compte = {}.fromkeys(set(liste),0)\n",
    "\n",
    "#for valeur_unique in set(liste):\n",
    "for occurences in liste:\n",
    "    if occurences >= 1:\n",
    "        compte[occurences] += 1\n",
    "\n",
    "compte\n",
    "\n",
    "print(\"\\n----------\")\n",
    "\n",
    "l = [0] * 10\n"
   ]
  },
  {
   "cell_type": "code",
   "execution_count": null,
   "metadata": {},
   "outputs": [],
   "source": []
  },
  {
   "cell_type": "code",
   "execution_count": null,
   "metadata": {},
   "outputs": [],
   "source": []
  },
  {
   "cell_type": "code",
   "execution_count": null,
   "metadata": {},
   "outputs": [],
   "source": []
  },
  {
   "cell_type": "code",
   "execution_count": null,
   "metadata": {},
   "outputs": [],
   "source": []
  },
  {
   "cell_type": "code",
   "execution_count": null,
   "metadata": {},
   "outputs": [],
   "source": []
  },
  {
   "cell_type": "code",
   "execution_count": 10,
   "metadata": {},
   "outputs": [
    {
     "output_type": "stream",
     "name": "stdout",
     "text": [
      "\nGroupe 1\n\nMarie\n\nSouad\n\nLuca P\n\nBrahiman\n\n\nGroupe 2\n\nYoan\n\nRemi\n\nXavier\n\nMohammad\n\n\nGroupe 3\n\nYanice\n\nLukas C\n\nNga\n\nAlex\n\n\nGroupe 4\n\nWilfried\n\nAnthony\n\nJulien\n\nMartin\n\n"
     ]
    }
   ],
   "source": [
    "# Editer groupes aléatoire\n",
    "\n",
    "import random\n",
    "\n",
    "maliste = [\"Alex\",\"Anthony\",\"Brahiman\",\"Julien\",\"Luca P\",\"Lukas C\",\"Marie\",\"Martin\",\"Nga\",\"Wilfried\",\"Remi\",\"Mohammad\",\"Souad\",\"Xavier\",\"Yanice\",\"Yoan\"]\n",
    "groupes = []\n",
    "\n",
    "while len(maliste) > 1:\n",
    "    \n",
    "    i = random.randint(0, len(maliste)-1)\n",
    "    groupes.append(maliste.pop(i))\n",
    "\n",
    "groupes.append(maliste.pop())\n",
    "\n",
    "for i in range(len(groupes)):\n",
    "    \n",
    "    if i % 4 == 0 :\n",
    "        print(\"\")\n",
    "        print(\"Groupe\", int((i/4)+1))\n",
    "        print(\"\")\n",
    "        \n",
    "    print(groupes[i])\n",
    "    print(\"\")"
   ]
  },
  {
   "cell_type": "code",
   "execution_count": null,
   "metadata": {},
   "outputs": [],
   "source": [
    "m"
   ]
  }
 ]
}