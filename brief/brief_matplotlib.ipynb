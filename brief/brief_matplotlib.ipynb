{
 "metadata": {
  "language_info": {
   "codemirror_mode": {
    "name": "ipython",
    "version": 3
   },
   "file_extension": ".py",
   "mimetype": "text/x-python",
   "name": "python",
   "nbconvert_exporter": "python",
   "pygments_lexer": "ipython3",
   "version": "3.8.5"
  },
  "orig_nbformat": 2,
  "kernelspec": {
   "name": "python3",
   "display_name": "Python 3.8.5 64-bit ('base': conda)",
   "metadata": {
    "interpreter": {
     "hash": "64b474f71659f9be32f34132c3eef93d33d176ead871b80ca6db3fa26bc83f65"
    }
   }
  }
 },
 "nbformat": 4,
 "nbformat_minor": 2,
 "cells": [
  {
   "cell_type": "code",
   "execution_count": 16,
   "metadata": {},
   "outputs": [
    {
     "output_type": "execute_result",
     "data": {
      "text/plain": [
       "           DATE  UNRATE\n",
       "0    1948-01-01     3.4\n",
       "1    1948-02-01     3.8\n",
       "2    1948-03-01     4.0\n",
       "3    1948-04-01     3.9\n",
       "4    1948-05-01     3.5\n",
       "..          ...     ...\n",
       "836  2017-09-01     4.2\n",
       "837  2017-10-01     4.1\n",
       "838  2017-11-01     4.1\n",
       "839  2017-12-01     4.1\n",
       "840  2018-01-01     4.1\n",
       "\n",
       "[841 rows x 2 columns]"
      ],
      "text/html": "<div>\n<style scoped>\n    .dataframe tbody tr th:only-of-type {\n        vertical-align: middle;\n    }\n\n    .dataframe tbody tr th {\n        vertical-align: top;\n    }\n\n    .dataframe thead th {\n        text-align: right;\n    }\n</style>\n<table border=\"1\" class=\"dataframe\">\n  <thead>\n    <tr style=\"text-align: right;\">\n      <th></th>\n      <th>DATE</th>\n      <th>UNRATE</th>\n    </tr>\n  </thead>\n  <tbody>\n    <tr>\n      <th>0</th>\n      <td>1948-01-01</td>\n      <td>3.4</td>\n    </tr>\n    <tr>\n      <th>1</th>\n      <td>1948-02-01</td>\n      <td>3.8</td>\n    </tr>\n    <tr>\n      <th>2</th>\n      <td>1948-03-01</td>\n      <td>4.0</td>\n    </tr>\n    <tr>\n      <th>3</th>\n      <td>1948-04-01</td>\n      <td>3.9</td>\n    </tr>\n    <tr>\n      <th>4</th>\n      <td>1948-05-01</td>\n      <td>3.5</td>\n    </tr>\n    <tr>\n      <th>...</th>\n      <td>...</td>\n      <td>...</td>\n    </tr>\n    <tr>\n      <th>836</th>\n      <td>2017-09-01</td>\n      <td>4.2</td>\n    </tr>\n    <tr>\n      <th>837</th>\n      <td>2017-10-01</td>\n      <td>4.1</td>\n    </tr>\n    <tr>\n      <th>838</th>\n      <td>2017-11-01</td>\n      <td>4.1</td>\n    </tr>\n    <tr>\n      <th>839</th>\n      <td>2017-12-01</td>\n      <td>4.1</td>\n    </tr>\n    <tr>\n      <th>840</th>\n      <td>2018-01-01</td>\n      <td>4.1</td>\n    </tr>\n  </tbody>\n</table>\n<p>841 rows × 2 columns</p>\n</div>"
     },
     "metadata": {},
     "execution_count": 16
    }
   ],
   "source": [
    "import pandas as pd\n",
    "import matplotlib as mtp\n",
    "import matplotlib.pyplot as plt\n",
    "\n",
    "unrate = pd.read_csv(\"/home/simplon/Documents/jeux_de_données/unrate.csv\")\n",
    "unrate"
   ]
  },
  {
   "source": [
    "### Introduction"
   ],
   "cell_type": "markdown",
   "metadata": {}
  },
  {
   "cell_type": "code",
   "execution_count": 25,
   "metadata": {},
   "outputs": [
    {
     "output_type": "execute_result",
     "data": {
      "text/plain": [
       "0    1948-01-01\n",
       "1    1948-02-01\n",
       "2    1948-03-01\n",
       "3    1948-04-01\n",
       "4    1948-05-01\n",
       "5    1948-06-01\n",
       "6    1948-07-01\n",
       "7    1948-08-01\n",
       "8    1948-09-01\n",
       "9    1948-10-01\n",
       "10   1948-11-01\n",
       "11   1948-12-01\n",
       "Name: DATE, dtype: datetime64[ns]"
      ]
     },
     "metadata": {},
     "execution_count": 25
    }
   ],
   "source": [
    "date = unrate[\"DATE\"]\n",
    "date = pd.to_datetime(date)\n",
    "date.head(12)"
   ]
  },
  {
   "source": [
    "### Premier graphique"
   ],
   "cell_type": "markdown",
   "metadata": {}
  },
  {
   "cell_type": "code",
   "execution_count": null,
   "metadata": {},
   "outputs": [],
   "source": []
  }
 ]
}